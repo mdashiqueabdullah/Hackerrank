{
 "cells": [
  {
   "cell_type": "code",
   "execution_count": 34,
   "id": "4dda7d9c",
   "metadata": {},
   "outputs": [
    {
     "name": "stdout",
     "output_type": "stream",
     "text": [
      "2\n",
      "ami jani 20 m\n",
      "tumi jani 15 f\n"
     ]
    },
    {
     "ename": "TypeError",
     "evalue": "print() argument after * must be an iterable, not NoneType",
     "output_type": "error",
     "traceback": [
      "\u001b[1;31m---------------------------------------------------------------------------\u001b[0m",
      "\u001b[1;31mTypeError\u001b[0m                                 Traceback (most recent call last)",
      "Cell \u001b[1;32mIn[34], line 48\u001b[0m\n\u001b[0;32m     46\u001b[0m \u001b[38;5;28;01mif\u001b[39;00m \u001b[38;5;18m__name__\u001b[39m \u001b[38;5;241m==\u001b[39m \u001b[38;5;124m'\u001b[39m\u001b[38;5;124m__main__\u001b[39m\u001b[38;5;124m'\u001b[39m:\n\u001b[0;32m     47\u001b[0m     people \u001b[38;5;241m=\u001b[39m [\u001b[38;5;28minput\u001b[39m()\u001b[38;5;241m.\u001b[39msplit() \u001b[38;5;28;01mfor\u001b[39;00m i \u001b[38;5;129;01min\u001b[39;00m \u001b[38;5;28mrange\u001b[39m(\u001b[38;5;28mint\u001b[39m(\u001b[38;5;28minput\u001b[39m()))]\n\u001b[1;32m---> 48\u001b[0m     \u001b[38;5;28mprint\u001b[39m(\u001b[38;5;241m*\u001b[39mname_format(people), sep\u001b[38;5;241m=\u001b[39m\u001b[38;5;124m'\u001b[39m\u001b[38;5;130;01m\\n\u001b[39;00m\u001b[38;5;124m'\u001b[39m)\n",
      "\u001b[1;31mTypeError\u001b[0m: print() argument after * must be an iterable, not NoneType"
     ]
    }
   ],
   "source": [
    "# person_info_list=[]\n",
    "# person_info_dic={}\n",
    "\n",
    "\n",
    "# def short_info(person_info_dic):\n",
    "#     for x in range(0,len(person_info_dic)-1):\n",
    "#         if(person_info_dic[x][2]>person_info_dic[x+1][2]):\n",
    "#             temp=person_info_dic[x][2]\n",
    "#             person_info_dic[x][2]=person_info_dic[x+1][2]\n",
    "#             person_info_dic[x+1][2]=temp\n",
    "    \n",
    "\n",
    "\n",
    "\n",
    "# for x in range(int(input())):\n",
    "#     person_info_list=list(map(str,input().split()))\n",
    "#     person_info_dic[x]=person_info_list\n",
    "\n",
    "    \n",
    "    \n",
    "# short_info(person_info_dic)\n",
    "\n",
    "\n",
    "# for x in range(0,len(person_info_dic)):\n",
    "#     print(\"Mr.\" if person_info_dic[x][3]==\"m\" else \"Ms.\",person_info_dic[x][0],person_info_dic[x][1])\n",
    "\n",
    "    \n",
    "    \n",
    "    \n",
    "    \n",
    "import operator\n",
    "\n",
    "def person_lister(f):\n",
    "    def inner(people):\n",
    "        for x in range(0,len(person_info_dic)-1):\n",
    "            if(people[x][2]>people[x+1][2]):\n",
    "                temp=people[x][2]\n",
    "                people[x][2]=people[x+1][2]\n",
    "                people[x+1][2]=temp\n",
    "    return inner\n",
    "\n",
    "@person_lister\n",
    "def name_format(person):\n",
    "    return (\"Mr. \" if person[3] == \"M\" else \"Ms. \") + person[0] + \" \" + person[1]\n",
    "\n",
    "if __name__ == '__main__':\n",
    "    people = [input().split() for i in range(int(input()))]\n",
    "    print(*name_format(people), sep='\\n')"
   ]
  },
  {
   "cell_type": "code",
   "execution_count": null,
   "id": "d458e738",
   "metadata": {},
   "outputs": [],
   "source": []
  }
 ],
 "metadata": {
  "kernelspec": {
   "display_name": "Python 3 (ipykernel)",
   "language": "python",
   "name": "python3"
  },
  "language_info": {
   "codemirror_mode": {
    "name": "ipython",
    "version": 3
   },
   "file_extension": ".py",
   "mimetype": "text/x-python",
   "name": "python",
   "nbconvert_exporter": "python",
   "pygments_lexer": "ipython3",
   "version": "3.11.5"
  }
 },
 "nbformat": 4,
 "nbformat_minor": 5
}
