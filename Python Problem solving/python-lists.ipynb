{
 "cells": [
  {
   "cell_type": "code",
   "execution_count": 14,
   "id": "724e5d82",
   "metadata": {},
   "outputs": [
    {
     "name": "stdout",
     "output_type": "stream",
     "text": [
      "4\n",
      "insert 0 5\n",
      "insert 1 10\n",
      "insert 0 6\n",
      "print\n",
      "[6, 5, 10]\n"
     ]
    }
   ],
   "source": [
    "my_list = []\n",
    "for x in range(0,int(input())):\n",
    "    \n",
    "    command= input().split()\n",
    "    \n",
    "    \n",
    "    if(command[0]=='insert'):\n",
    "        my_list.insert(int(command[1]),int(command[2]))\n",
    "    elif(command[0]=='print'):\n",
    "        print(my_list)\n",
    "    elif(command[0]=='remove'):\n",
    "        my_list.remove(int(command[1]))\n",
    "    elif(command[0]=='append'):\n",
    "        my_list.append(int(command[1]))\n",
    "    elif(command[0]=='sort'):\n",
    "        my_list.sort()\n",
    "    elif(command[0]=='pop'):\n",
    "        my_list.pop()\n",
    "    elif(command[0]=='reverse'):\n",
    "        my_list.reverse()\n",
    "    \n",
    "\n",
    "# 12\n",
    "# insert 0 5\n",
    "# insert 1 10\n",
    "# insert 0 6\n",
    "# print\n",
    "# remove 6\n",
    "# append 9\n",
    "# append 1\n",
    "# sort\n",
    "# print\n",
    "# pop\n",
    "# reverse\n",
    "# print"
   ]
  },
  {
   "cell_type": "code",
   "execution_count": null,
   "id": "813ad8d4",
   "metadata": {},
   "outputs": [],
   "source": []
  },
  {
   "cell_type": "code",
   "execution_count": null,
   "id": "6eb2fd72",
   "metadata": {},
   "outputs": [],
   "source": []
  }
 ],
 "metadata": {
  "kernelspec": {
   "display_name": "Python 3 (ipykernel)",
   "language": "python",
   "name": "python3"
  },
  "language_info": {
   "codemirror_mode": {
    "name": "ipython",
    "version": 3
   },
   "file_extension": ".py",
   "mimetype": "text/x-python",
   "name": "python",
   "nbconvert_exporter": "python",
   "pygments_lexer": "ipython3",
   "version": "3.11.5"
  }
 },
 "nbformat": 4,
 "nbformat_minor": 5
}
