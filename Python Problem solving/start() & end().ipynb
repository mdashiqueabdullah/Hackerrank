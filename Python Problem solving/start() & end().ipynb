{
 "cells": [
  {
   "cell_type": "code",
   "execution_count": 27,
   "id": "941597d5",
   "metadata": {},
   "outputs": [
    {
     "name": "stdout",
     "output_type": "stream",
     "text": [
      "aaadaa\n",
      "hh\n",
      "(-1, -1)\n"
     ]
    }
   ],
   "source": [
    "s=input()\n",
    "k=input()\n",
    "a=len(k)\n",
    "flag=0\n",
    "for x in range(0,len(s)):\n",
    "    if(s[x]==k[0]):\n",
    "        end=x+a\n",
    "        sub_str=s[x:end]\n",
    "        if k==sub_str:\n",
    "            my_list=[x,end-1]\n",
    "            print(tuple(my_list))\n",
    "            flag=1\n",
    "            \n",
    "if(flag==0):\n",
    "    my_list=[-1,-1]\n",
    "    print(tuple(my_list))\n",
    "    \n",
    "    \n",
    "            \n",
    "        "
   ]
  },
  {
   "cell_type": "code",
   "execution_count": null,
   "id": "93c6d20d",
   "metadata": {},
   "outputs": [],
   "source": []
  }
 ],
 "metadata": {
  "kernelspec": {
   "display_name": "Python 3 (ipykernel)",
   "language": "python",
   "name": "python3"
  },
  "language_info": {
   "codemirror_mode": {
    "name": "ipython",
    "version": 3
   },
   "file_extension": ".py",
   "mimetype": "text/x-python",
   "name": "python",
   "nbconvert_exporter": "python",
   "pygments_lexer": "ipython3",
   "version": "3.11.5"
  }
 },
 "nbformat": 4,
 "nbformat_minor": 5
}
