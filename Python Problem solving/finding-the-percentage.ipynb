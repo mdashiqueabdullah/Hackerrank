{
 "cells": [
  {
   "cell_type": "code",
   "execution_count": null,
   "id": "2c1bc39b",
   "metadata": {},
   "outputs": [],
   "source": [
    "student_marks={}\n",
    "\n",
    "for x in range(int(input())):\n",
    "    name, *line = input().split()\n",
    "    scores = list(map(float, line))\n",
    "    student_marks[name]=scores\n",
    "\n",
    "a=input()\n",
    "\n",
    "ans = (student_marks[a][0] + student_marks[a][1] + student_marks[a][2])/3\n",
    "\n",
    "print(round(ans,2))"
   ]
  },
  {
   "cell_type": "markdown",
   "id": "bbe8377e",
   "metadata": {},
   "source": []
  },
  {
   "cell_type": "code",
   "execution_count": null,
   "id": "205640b1",
   "metadata": {},
   "outputs": [],
   "source": []
  },
  {
   "cell_type": "code",
   "execution_count": null,
   "id": "da212360",
   "metadata": {},
   "outputs": [],
   "source": []
  }
 ],
 "metadata": {
  "kernelspec": {
   "display_name": "Python 3 (ipykernel)",
   "language": "python",
   "name": "python3"
  },
  "language_info": {
   "codemirror_mode": {
    "name": "ipython",
    "version": 3
   },
   "file_extension": ".py",
   "mimetype": "text/x-python",
   "name": "python",
   "nbconvert_exporter": "python",
   "pygments_lexer": "ipython3",
   "version": "3.11.5"
  }
 },
 "nbformat": 4,
 "nbformat_minor": 5
}
